{
 "cells": [
  {
   "cell_type": "markdown",
   "id": "75082b8b",
   "metadata": {},
   "source": [
    "### SpaceShip Titanic Supervised Machine Learning Project: CSCA 5622 ###"
   ]
  },
  {
   "cell_type": "markdown",
   "id": "515c6b1c",
   "metadata": {},
   "source": [
    "For my Final project I am going to execute a supervised learning analysis on a kaggle data set https://www.kaggle.com/competitions/spaceship-titanic/data <br>\n",
    "Here I am using the \"Spaceship Titanic\" data from an ongoing Kaggle competition where we will predict which passengers are transported to an alternate dimension."
   ]
  },
  {
   "cell_type": "markdown",
   "id": "7ee74467",
   "metadata": {},
   "source": [
    "This project includes 3 deliverables: \n",
    "* This Juypter notebook\n",
    "* A video presentation available on Youtube\n",
    "* and a public github repository\n"
   ]
  },
  {
   "cell_type": "markdown",
   "id": "5f6e030e",
   "metadata": {},
   "source": [
    "First lets take a brief overview of our Machine Learning (ML) problem. In this scenario we explore a play on a well known disaster, The Titanic, in which a \"ground truth\" for each passenger is determined. Our goal is less gruesome, as instead of life and death on the spaceship tianic we will determine whether almost 13,000 passengers on board will be transported to three habitable exoplanets orbiting nearby stars. Unfortunately while rounding our first destination, the Spaceship Titanic collided with a spacetime anomaly. While the ship stayed intact, almost half of the passengers were transported to an alternate dimension!  "
   ]
  },
  {
   "cell_type": "markdown",
   "id": "c227a134",
   "metadata": {},
   "source": [
    "#### SpaceTime Anomaly\n",
    "\n",
    "\n",
    "<img src=\"assets/alpha-c.jpg\" width=\"700\" height=\"350\">\n",
    "\n"
   ]
  },
  {
   "cell_type": "markdown",
   "id": "521c7006",
   "metadata": {},
   "source": [
    "To resue the lost passengers we must use Machine learning to predict which passengers were transported by the anomaly using records recovered from the spaceship's damaged computer system!"
   ]
  },
  {
   "cell_type": "code",
   "execution_count": null,
   "id": "fd8c0fd1",
   "metadata": {},
   "outputs": [],
   "source": []
  },
  {
   "cell_type": "markdown",
   "id": "d7ef11a3",
   "metadata": {},
   "source": [
    "### Citation"
   ]
  },
  {
   "cell_type": "markdown",
   "id": "b8af69cf",
   "metadata": {},
   "source": [
    "Addison Howard, Ashley Chow, and Ryan Holbrook. Spaceship Titanic. https://kaggle.com/competitions/spaceship-titanic, 2022. Kaggle."
   ]
  }
 ],
 "metadata": {
  "kernelspec": {
   "display_name": "Python 3",
   "language": "python",
   "name": "python3"
  },
  "language_info": {
   "codemirror_mode": {
    "name": "ipython",
    "version": 3
   },
   "file_extension": ".py",
   "mimetype": "text/x-python",
   "name": "python",
   "nbconvert_exporter": "python",
   "pygments_lexer": "ipython3",
   "version": "3.12.3"
  }
 },
 "nbformat": 4,
 "nbformat_minor": 5
}
