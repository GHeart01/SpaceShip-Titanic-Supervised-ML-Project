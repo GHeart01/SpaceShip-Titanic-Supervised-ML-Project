{
 "cells": [
  {
   "cell_type": "markdown",
   "id": "75082b8b",
   "metadata": {},
   "source": [
    "### SpaceShip Titanic Supervised Machine Learning Project: CSCA 5622 ###"
   ]
  },
  {
   "cell_type": "markdown",
   "id": "515c6b1c",
   "metadata": {},
   "source": [
    "For my Final project I am going to execute a supervised learning analysis on a kaggle data set https://www.kaggle.com/competitions/spaceship-titanic/data <br>\n",
    "Here I am using the \"Spaceship Titanic\" data from an ongoing Kaggle competition where we will predict which passengers are transported to an alternate dimension."
   ]
  },
  {
   "cell_type": "markdown",
   "id": "7ee74467",
   "metadata": {},
   "source": [
    "This project includes 3 deliverables: \n",
    "* This Juypter notebook - including: problem Decription, EDA procedure, analysis(model building and training), result, and discussion/conclusion\n",
    "* A video presentation available on Youtube - Explaining what problem we solved, my ML approach and method, and Final Result\n",
    "    * link here\n",
    "* and a public github repository - https://github.com/GHeart01/SpaceShip-Titanic-Supervised-ML-Project\n"
   ]
  },
  {
   "cell_type": "markdown",
   "id": "b79c1ed0",
   "metadata": {},
   "source": [
    "#### Table of Contents\n",
    "\n",
    "- [Problem Description](#Problem)\n",
    "- [EDA](#indent)\n",
    "- [Analysis](#center)\n",
    "- [Result](#color)\n",
    "- [Discussion](#color)\n",
    "- [Citation](#Citation)"
   ]
  },
  {
   "cell_type": "markdown",
   "id": "4f21f9c4",
   "metadata": {},
   "source": [
    "#### Problem Description"
   ]
  },
  {
   "cell_type": "markdown",
   "id": "5f6e030e",
   "metadata": {},
   "source": [
    "First lets take a brief overview of our Machine Learning (ML) problem. In this scenario we explore a play on a well known disaster, The Titanic, in which a \"ground truth\" for each passenger is determined. Our goal is less gruesome, as instead of life and death on the spaceship tianic we will determine whether almost 13,000 passengers on board will be transported to three habitable exoplanets orbiting nearby stars. Unfortunately while rounding our first destination, the Spaceship Titanic collided with a spacetime anomaly. While the ship stayed intact, almost half of the passengers were transported to an alternate dimension!  "
   ]
  },
  {
   "cell_type": "markdown",
   "id": "c227a134",
   "metadata": {},
   "source": [
    "\n",
    "\n",
    "\n",
    "<p align=\"center\">\n",
    "<img src=\"assets/alpha-c.jpg\" width=\"700\" height=\"350\">\n",
    "<br>\n",
    "Spacetime Anomaly\n",
    "<p>\n",
    "\n"
   ]
  },
  {
   "cell_type": "markdown",
   "id": "521c7006",
   "metadata": {},
   "source": [
    "To resue the lost passengers we must use Machine Learning to predict which passengers were transported by the anomaly using records recovered from the spaceship's damaged computer system!"
   ]
  },
  {
   "cell_type": "markdown",
   "id": "92a4327c",
   "metadata": {},
   "source": [
    "### Exploratory Data Analysis (EDA) Procedure"
   ]
  },
  {
   "cell_type": "markdown",
   "id": "eaecf5a3",
   "metadata": {},
   "source": [
    "My task is to predict whether a passenger was transported to an alternate dimension during the Spaceship Titanic's collision with the spacetime anomaly. To help  make these predictions, I use a given a set of personal records recovered from the ship's damaged computer system.\n",
    "\n",
    "|Variable |\tDescription|\n",
    "|:---------|:-------------|\n",
    "|PassengerId \t|A unique Id for each passenger. Each Id takes the form gggg_pp where gggg indicates a group the passenger is travelling with and pp is their number within the group. People in a group are often family members, but not always.|\n",
    "|HomePlanet |\tThe planet the passenger departed from, typically their planet of permanent residence.|\n",
    "|CryoSleep |\t Indicates whether the passenger elected to be put into suspended animation for the duration of the voyage. Passengers in cryosleep are confined to their cabins.|\n",
    "|Cabin |\tThe cabin number where the passenger is staying. Takes the form deck/num/side, where side can be either P for Port or S for Starboard.|\n",
    "|Destination |\tThe planet the passenger will be debarking to.|\n",
    "|Age| \t The age of the passenger.|\n",
    "|VIP |\tWhether the passenger has paid for special VIP service during the voyage.|\n",
    "|RoomService, FoodCourt, ShoppingMall, Spa, VRDeck |\tAmount the passenger has billed at each of the Spaceship Titanic's many luxury amenities.|\n",
    "|Name |\tThe first and last names of the passenger.|\n",
    "|Transported |\tWhether the passenger was transported to another dimension. This is the target, the column you are trying to predict.|\n"
   ]
  },
  {
   "cell_type": "code",
   "execution_count": null,
   "id": "fd8c0fd1",
   "metadata": {},
   "outputs": [],
   "source": [
    "import tensorflow as tf\n",
    "import tensorflow_decision_forests as tfdf\n",
    "import pandas as pd\n",
    "import numpy as np\n",
    "import seaborn as sns\n",
    "import matplotlib.pyplot as plt"
   ]
  },
  {
   "cell_type": "markdown",
   "id": "d7ef11a3",
   "metadata": {},
   "source": [
    "### Citation"
   ]
  },
  {
   "cell_type": "markdown",
   "id": "b8af69cf",
   "metadata": {},
   "source": [
    "Addison Howard, Ashley Chow, and Ryan Holbrook. Spaceship Titanic. https://kaggle.com/competitions/spaceship-titanic, 2022. Kaggle."
   ]
  }
 ],
 "metadata": {
  "kernelspec": {
   "display_name": "Python 3",
   "language": "python",
   "name": "python3"
  },
  "language_info": {
   "codemirror_mode": {
    "name": "ipython",
    "version": 3
   },
   "file_extension": ".py",
   "mimetype": "text/x-python",
   "name": "python",
   "nbconvert_exporter": "python",
   "pygments_lexer": "ipython3",
   "version": "3.12.3"
  }
 },
 "nbformat": 4,
 "nbformat_minor": 5
}
